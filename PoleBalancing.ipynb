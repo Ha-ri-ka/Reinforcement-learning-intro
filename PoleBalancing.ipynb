{
 "cells": [
  {
   "cell_type": "code",
   "execution_count": 1,
   "metadata": {},
   "outputs": [],
   "source": [
    "# !pip install stable-baselines3[extra] \n",
    "#Python library to work with model-free RL tasks \n",
    "# !pip install gymnasium"
   ]
  },
  {
   "cell_type": "code",
   "execution_count": 2,
   "metadata": {},
   "outputs": [],
   "source": [
    "import os\n",
    "import gymnasium as gym #open ai's library for environments \n",
    "from stable_baselines3 import PPO #Proximal policy optimization\n",
    "from stable_baselines3.common.vec_env import DummyVecEnv #to vectorize the environment \n",
    "from stable_baselines3.common.evaluation import evaluate_policy #returns average rewards for episodes and also std deviation for our agent"
   ]
  },
  {
   "cell_type": "code",
   "execution_count": 3,
   "metadata": {},
   "outputs": [],
   "source": [
    "env_name='CartPole-v1'\n",
    "env=gym.make(env_name,render_mode='human')"
   ]
  },
  {
   "cell_type": "markdown",
   "metadata": {},
   "source": [
    "UNDERSTANDING THE ENVIRONMENT"
   ]
  },
  {
   "cell_type": "code",
   "execution_count": 4,
   "metadata": {},
   "outputs": [
    {
     "name": "stdout",
     "output_type": "stream",
     "text": [
      "a random action that is possible:0\n",
      "\n",
      "A random possible state in the environment\n",
      "cart position: 0.02377982810139656\n",
      "cart velocity: 0.028774883598089218\n",
      "pole angle: 0.030604371801018715\n",
      "pole angular velocity:  7.554204057669267e-05\n",
      "\n",
      "Outcome of an action\n",
      "New state: [ 0.02435533  0.22344486  0.03060588 -0.2827964 ]\n",
      "Reward: 1.0\n",
      "Done: False\n",
      "Info: {}\n"
     ]
    }
   ],
   "source": [
    "print(f\"a random action that is possible:{env.action_space.sample()}\\n\") #0-->push cart to left, 1-->push cart to right\n",
    "initial_state, info = env.reset()\n",
    "cart_position = initial_state[0]\n",
    "cart_velocity = initial_state[1]\n",
    "pole_angle = initial_state[2]\n",
    "pole_angular_velocity = initial_state[3]\n",
    "print(f\"A random possible state in the environment\\ncart position: {cart_position}\\ncart velocity: {cart_velocity}\\npole angle: {pole_angle}\\npole angular velocity:  {pole_angular_velocity}\\n\")\n",
    "new_state, reward, terminated, truncated, info = env.step(env.action_space.sample())\n",
    "done = terminated or truncated\n",
    "print(f\"Outcome of an action\\nNew state: {new_state}\\nReward: {reward}\\nDone: {done}\\nInfo: {info}\")"
   ]
  },
  {
   "cell_type": "markdown",
   "metadata": {},
   "source": [
    "sample run and visualization of environment, action and reward"
   ]
  },
  {
   "cell_type": "code",
   "execution_count": 5,
   "metadata": {},
   "outputs": [
    {
     "name": "stdout",
     "output_type": "stream",
     "text": [
      "episode 0, score = 20.0\n",
      "episode 1, score = 30.0\n",
      "episode 2, score = 16.0\n",
      "episode 3, score = 25.0\n",
      "episode 4, score = 31.0\n"
     ]
    }
   ],
   "source": [
    "eps=5\n",
    "for e in range(eps):\n",
    "    env.reset()\n",
    "    done=False\n",
    "    score=0\n",
    "    while not done:\n",
    "        env.render()\n",
    "        action=env.action_space.sample()\n",
    "        new_state, reward, terminated, truncated, info = env.step(action)\n",
    "        score+=reward\n",
    "        done=terminated or truncated\n",
    "    print(f\"episode {e}, score = {score}\")\n",
    "env.close()"
   ]
  },
  {
   "cell_type": "markdown",
   "metadata": {},
   "source": [
    "### TRAINING THE MODEL"
   ]
  },
  {
   "cell_type": "code",
   "execution_count": 6,
   "metadata": {},
   "outputs": [],
   "source": [
    "log_path=os.path.join('training','logs')"
   ]
  },
  {
   "cell_type": "code",
   "execution_count": 14,
   "metadata": {},
   "outputs": [
    {
     "name": "stdout",
     "output_type": "stream",
     "text": [
      "Using cpu device\n"
     ]
    }
   ],
   "source": [
    "env=gym.make(env_name)\n",
    "env=DummyVecEnv([lambda: env])\n",
    "agent=PPO('MlpPolicy',env,verbose=1,tensorboard_log=log_path)"
   ]
  },
  {
   "cell_type": "code",
   "execution_count": 15,
   "metadata": {},
   "outputs": [
    {
     "name": "stdout",
     "output_type": "stream",
     "text": [
      "Logging to training\\logs\\PPO_1\n"
     ]
    },
    {
     "name": "stdout",
     "output_type": "stream",
     "text": [
      "-----------------------------\n",
      "| time/              |      |\n",
      "|    fps             | 926  |\n",
      "|    iterations      | 1    |\n",
      "|    time_elapsed    | 2    |\n",
      "|    total_timesteps | 2048 |\n",
      "-----------------------------\n",
      "----------------------------------------\n",
      "| time/                   |            |\n",
      "|    fps                  | 684        |\n",
      "|    iterations           | 2          |\n",
      "|    time_elapsed         | 5          |\n",
      "|    total_timesteps      | 4096       |\n",
      "| train/                  |            |\n",
      "|    approx_kl            | 0.00859977 |\n",
      "|    clip_fraction        | 0.114      |\n",
      "|    clip_range           | 0.2        |\n",
      "|    entropy_loss         | -0.686     |\n",
      "|    explained_variance   | -0.000638  |\n",
      "|    learning_rate        | 0.0003     |\n",
      "|    loss                 | 7.73       |\n",
      "|    n_updates            | 10         |\n",
      "|    policy_gradient_loss | -0.0177    |\n",
      "|    value_loss           | 51.2       |\n",
      "----------------------------------------\n",
      "-----------------------------------------\n",
      "| time/                   |             |\n",
      "|    fps                  | 631         |\n",
      "|    iterations           | 3           |\n",
      "|    time_elapsed         | 9           |\n",
      "|    total_timesteps      | 6144        |\n",
      "| train/                  |             |\n",
      "|    approx_kl            | 0.009353742 |\n",
      "|    clip_fraction        | 0.0671      |\n",
      "|    clip_range           | 0.2         |\n",
      "|    entropy_loss         | -0.663      |\n",
      "|    explained_variance   | 0.106       |\n",
      "|    learning_rate        | 0.0003      |\n",
      "|    loss                 | 16.6        |\n",
      "|    n_updates            | 20          |\n",
      "|    policy_gradient_loss | -0.0175     |\n",
      "|    value_loss           | 33.8        |\n",
      "-----------------------------------------\n"
     ]
    },
    {
     "data": {
      "text/plain": [
       "<stable_baselines3.ppo.ppo.PPO at 0x15a38a54310>"
      ]
     },
     "execution_count": 15,
     "metadata": {},
     "output_type": "execute_result"
    }
   ],
   "source": [
    "total_timesteps=5000\n",
    "agent.learn(total_timesteps)"
   ]
  },
  {
   "cell_type": "code",
   "execution_count": 16,
   "metadata": {},
   "outputs": [],
   "source": [
    "PPO_path = os.path.join('Training', 'Saved Models', 'PPO_model')\n",
    "agent.save(PPO_path)"
   ]
  },
  {
   "cell_type": "code",
   "execution_count": 17,
   "metadata": {},
   "outputs": [],
   "source": [
    "#del agent\n",
    "#agent= PPO.load(PPO_path, env=env)"
   ]
  },
  {
   "cell_type": "markdown",
   "metadata": {},
   "source": [
    "### EVALUATION"
   ]
  },
  {
   "cell_type": "code",
   "execution_count": null,
   "metadata": {},
   "outputs": [],
   "source": []
  }
 ],
 "metadata": {
  "kernelspec": {
   "display_name": "Python 3",
   "language": "python",
   "name": "python3"
  },
  "language_info": {
   "codemirror_mode": {
    "name": "ipython",
    "version": 3
   },
   "file_extension": ".py",
   "mimetype": "text/x-python",
   "name": "python",
   "nbconvert_exporter": "python",
   "pygments_lexer": "ipython3",
   "version": "3.10.5"
  }
 },
 "nbformat": 4,
 "nbformat_minor": 2
}
