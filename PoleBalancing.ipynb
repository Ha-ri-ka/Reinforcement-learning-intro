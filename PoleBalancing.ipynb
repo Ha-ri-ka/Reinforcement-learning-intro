{
 "cells": [
  {
   "cell_type": "code",
   "execution_count": 2,
   "metadata": {},
   "outputs": [],
   "source": [
    "# !pip install stable-baselines3[extra] \n",
    "#Python library to work with model-free RL tasks "
   ]
  },
  {
   "cell_type": "code",
   "execution_count": 3,
   "metadata": {},
   "outputs": [],
   "source": [
    "import os\n",
    "import gym #open ai's library for environments \n",
    "from stable_baselines3 import PPO #Proximal policy optimization\n",
    "from stable_baselines3.common.vec_env import DummyVecEnv #to vectorize the environment \n",
    "from stable_baselines3.common.evaluation import evaluate_policy #returns average rewards for episodes and also std deviation for our agent"
   ]
  },
  {
   "cell_type": "code",
   "execution_count": 25,
   "metadata": {},
   "outputs": [],
   "source": [
    "env_name='CartPole-v1'\n",
    "env=gym.make(env_name,render_mode='human')"
   ]
  },
  {
   "cell_type": "markdown",
   "metadata": {},
   "source": [
    "UNDERSTANDING THE ENVIRONMENT"
   ]
  },
  {
   "cell_type": "code",
   "execution_count": 26,
   "metadata": {},
   "outputs": [
    {
     "name": "stdout",
     "output_type": "stream",
     "text": [
      "a random action that is possible:0\n",
      "\n",
      "A random possible state in the environment\n",
      "cart position: -0.0278861653059721\n",
      "cart velocity: 0.02206878550350666\n",
      "pole angle: -0.020153583958745003\n",
      "pole angular velocity:  0.033963970839977264\n",
      "\n",
      "Outcome of an action\n",
      "New state: [-0.02744479 -0.17275845 -0.01947431  0.3202207 ]\n",
      "Reward: 1.0\n",
      "Done: False\n",
      "Info: {}\n"
     ]
    },
    {
     "name": "stderr",
     "output_type": "stream",
     "text": [
      "c:\\Dell\\Python310\\lib\\site-packages\\gym\\utils\\passive_env_checker.py:233: DeprecationWarning: `np.bool8` is a deprecated alias for `np.bool_`.  (Deprecated NumPy 1.24)\n",
      "  if not isinstance(terminated, (bool, np.bool8)):\n"
     ]
    }
   ],
   "source": [
    "print(f\"a random action that is possible:{env.action_space.sample()}\\n\") #0-->push cart to left, 1-->push cart to right\n",
    "initial_state, info = env.reset()\n",
    "cart_position = initial_state[0]\n",
    "cart_velocity = initial_state[1]\n",
    "pole_angle = initial_state[2]\n",
    "pole_angular_velocity = initial_state[3]\n",
    "print(f\"A random possible state in the environment\\ncart position: {cart_position}\\ncart velocity: {cart_velocity}\\npole angle: {pole_angle}\\npole angular velocity:  {pole_angular_velocity}\\n\")\n",
    "new_state, reward, terminated, truncated, info = env.step(env.action_space.sample())\n",
    "done = terminated or truncated\n",
    "print(f\"Outcome of an action\\nNew state: {new_state}\\nReward: {reward}\\nDone: {done}\\nInfo: {info}\")"
   ]
  },
  {
   "cell_type": "markdown",
   "metadata": {},
   "source": [
    "sample run and visualization of environment, action and reward"
   ]
  },
  {
   "cell_type": "code",
   "execution_count": 30,
   "metadata": {},
   "outputs": [
    {
     "name": "stdout",
     "output_type": "stream",
     "text": [
      "episode 0, score = 13.0\n",
      "episode 1, score = 28.0\n",
      "episode 2, score = 18.0\n",
      "episode 3, score = 15.0\n",
      "episode 4, score = 10.0\n"
     ]
    }
   ],
   "source": [
    "eps=5\n",
    "for e in range(eps):\n",
    "    env.reset()\n",
    "    done=False\n",
    "    score=0\n",
    "    while not done:\n",
    "        env.render()\n",
    "        action=env.action_space.sample()\n",
    "        new_state, reward, terminated, truncated, info = env.step(action)\n",
    "        score+=reward\n",
    "        done=terminated or truncated\n",
    "    print(f\"episode {e}, score = {score}\")\n",
    "env.close()"
   ]
  },
  {
   "cell_type": "markdown",
   "metadata": {},
   "source": [
    "### TRAINING THE MODEL"
   ]
  },
  {
   "cell_type": "code",
   "execution_count": 31,
   "metadata": {},
   "outputs": [],
   "source": [
    "log_path=os.path.join('training','logs')"
   ]
  },
  {
   "cell_type": "code",
   "execution_count": null,
   "metadata": {},
   "outputs": [],
   "source": []
  }
 ],
 "metadata": {
  "kernelspec": {
   "display_name": "Python 3",
   "language": "python",
   "name": "python3"
  },
  "language_info": {
   "codemirror_mode": {
    "name": "ipython",
    "version": 3
   },
   "file_extension": ".py",
   "mimetype": "text/x-python",
   "name": "python",
   "nbconvert_exporter": "python",
   "pygments_lexer": "ipython3",
   "version": "3.10.5"
  }
 },
 "nbformat": 4,
 "nbformat_minor": 2
}
