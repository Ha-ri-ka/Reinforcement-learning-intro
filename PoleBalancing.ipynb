{
 "cells": [
  {
   "cell_type": "code",
   "execution_count": 1,
   "metadata": {},
   "outputs": [],
   "source": [
    "# !pip install stable-baselines3[extra] \n",
    "#Python library to work with model-free RL tasks \n",
    "# !pip install gymnasium"
   ]
  },
  {
   "cell_type": "code",
   "execution_count": 1,
   "metadata": {},
   "outputs": [],
   "source": [
    "import os\n",
    "import gymnasium as gym #open ai's library for environments \n",
    "from stable_baselines3 import PPO #Proximal policy optimization\n",
    "from stable_baselines3.common.vec_env import DummyVecEnv #to vectorize the environment \n",
    "from stable_baselines3.common.evaluation import evaluate_policy #returns average rewards for episodes and also std deviation for our agent"
   ]
  },
  {
   "cell_type": "code",
   "execution_count": 9,
   "metadata": {},
   "outputs": [],
   "source": [
    "env_name='CartPole-v1'\n",
    "env=gym.make(env_name,render_mode='human')"
   ]
  },
  {
   "cell_type": "markdown",
   "metadata": {},
   "source": [
    "UNDERSTANDING THE ENVIRONMENT"
   ]
  },
  {
   "cell_type": "code",
   "execution_count": 10,
   "metadata": {},
   "outputs": [
    {
     "name": "stdout",
     "output_type": "stream",
     "text": [
      "a random action that is possible:0\n",
      "\n",
      "A random possible state in the environment\n",
      "cart position: -0.017919812351465225\n",
      "cart velocity: 0.02868456393480301\n",
      "pole angle: 0.03616403043270111\n",
      "pole angular velocity:  0.03311875835061073\n",
      "\n",
      "Outcome of an action\n",
      "New state: [-0.01734612 -0.16693683  0.03682641  0.3369889 ]\n",
      "Reward: 1.0\n",
      "Done: False\n",
      "Info: {}\n"
     ]
    }
   ],
   "source": [
    "print(f\"a random action that is possible:{env.action_space.sample()}\\n\") #0-->push cart to left, 1-->push cart to right\n",
    "initial_state, info = env.reset()\n",
    "cart_position = initial_state[0]\n",
    "cart_velocity = initial_state[1]\n",
    "pole_angle = initial_state[2]\n",
    "pole_angular_velocity = initial_state[3]\n",
    "print(f\"A random possible state in the environment\\ncart position: {cart_position}\\ncart velocity: {cart_velocity}\\npole angle: {pole_angle}\\npole angular velocity:  {pole_angular_velocity}\\n\")\n",
    "new_state, reward, terminated, truncated, info = env.step(env.action_space.sample())\n",
    "done = terminated or truncated\n",
    "print(f\"Outcome of an action\\nNew state: {new_state}\\nReward: {reward}\\nDone: {done}\\nInfo: {info}\")"
   ]
  },
  {
   "cell_type": "markdown",
   "metadata": {},
   "source": [
    "sample run and visualization of environment, action and reward"
   ]
  },
  {
   "cell_type": "code",
   "execution_count": 11,
   "metadata": {},
   "outputs": [
    {
     "name": "stdout",
     "output_type": "stream",
     "text": [
      "episode 0, score = 28.0\n",
      "episode 1, score = 13.0\n",
      "episode 2, score = 26.0\n",
      "episode 3, score = 31.0\n",
      "episode 4, score = 12.0\n"
     ]
    }
   ],
   "source": [
    "eps=5\n",
    "for e in range(eps):\n",
    "    env.reset()\n",
    "    done=False\n",
    "    score=0\n",
    "    while not done:\n",
    "        env.render()\n",
    "        action=env.action_space.sample()\n",
    "        new_state, reward, terminated, truncated, info = env.step(action)\n",
    "        score+=reward\n",
    "        done=terminated or truncated\n",
    "    print(f\"episode {e}, score = {score}\")"
   ]
  },
  {
   "cell_type": "code",
   "execution_count": 12,
   "metadata": {},
   "outputs": [],
   "source": [
    "env.close()"
   ]
  },
  {
   "cell_type": "markdown",
   "metadata": {},
   "source": [
    "### TRAINING THE MODEL"
   ]
  },
  {
   "cell_type": "code",
   "execution_count": 13,
   "metadata": {},
   "outputs": [],
   "source": [
    "log_path=os.path.join('training','logs')"
   ]
  },
  {
   "cell_type": "code",
   "execution_count": 14,
   "metadata": {},
   "outputs": [
    {
     "name": "stdout",
     "output_type": "stream",
     "text": [
      "Using cpu device\n"
     ]
    },
    {
     "name": "stderr",
     "output_type": "stream",
     "text": [
      "c:\\Dell\\Python310\\lib\\site-packages\\tqdm\\auto.py:21: TqdmWarning: IProgress not found. Please update jupyter and ipywidgets. See https://ipywidgets.readthedocs.io/en/stable/user_install.html\n",
      "  from .autonotebook import tqdm as notebook_tqdm\n"
     ]
    }
   ],
   "source": [
    "env=gym.make(env_name)\n",
    "env=DummyVecEnv([lambda: env])\n",
    "agent=PPO('MlpPolicy',env,verbose=1,tensorboard_log=log_path)"
   ]
  },
  {
   "cell_type": "code",
   "execution_count": 15,
   "metadata": {},
   "outputs": [
    {
     "name": "stdout",
     "output_type": "stream",
     "text": [
      "Logging to training\\logs\\PPO_1\n"
     ]
    },
    {
     "name": "stdout",
     "output_type": "stream",
     "text": [
      "-----------------------------\n",
      "| time/              |      |\n",
      "|    fps             | 926  |\n",
      "|    iterations      | 1    |\n",
      "|    time_elapsed    | 2    |\n",
      "|    total_timesteps | 2048 |\n",
      "-----------------------------\n",
      "----------------------------------------\n",
      "| time/                   |            |\n",
      "|    fps                  | 684        |\n",
      "|    iterations           | 2          |\n",
      "|    time_elapsed         | 5          |\n",
      "|    total_timesteps      | 4096       |\n",
      "| train/                  |            |\n",
      "|    approx_kl            | 0.00859977 |\n",
      "|    clip_fraction        | 0.114      |\n",
      "|    clip_range           | 0.2        |\n",
      "|    entropy_loss         | -0.686     |\n",
      "|    explained_variance   | -0.000638  |\n",
      "|    learning_rate        | 0.0003     |\n",
      "|    loss                 | 7.73       |\n",
      "|    n_updates            | 10         |\n",
      "|    policy_gradient_loss | -0.0177    |\n",
      "|    value_loss           | 51.2       |\n",
      "----------------------------------------\n",
      "-----------------------------------------\n",
      "| time/                   |             |\n",
      "|    fps                  | 631         |\n",
      "|    iterations           | 3           |\n",
      "|    time_elapsed         | 9           |\n",
      "|    total_timesteps      | 6144        |\n",
      "| train/                  |             |\n",
      "|    approx_kl            | 0.009353742 |\n",
      "|    clip_fraction        | 0.0671      |\n",
      "|    clip_range           | 0.2         |\n",
      "|    entropy_loss         | -0.663      |\n",
      "|    explained_variance   | 0.106       |\n",
      "|    learning_rate        | 0.0003      |\n",
      "|    loss                 | 16.6        |\n",
      "|    n_updates            | 20          |\n",
      "|    policy_gradient_loss | -0.0175     |\n",
      "|    value_loss           | 33.8        |\n",
      "-----------------------------------------\n"
     ]
    },
    {
     "data": {
      "text/plain": [
       "<stable_baselines3.ppo.ppo.PPO at 0x15a38a54310>"
      ]
     },
     "execution_count": 15,
     "metadata": {},
     "output_type": "execute_result"
    }
   ],
   "source": [
    "total_timesteps=5000\n",
    "agent.learn(total_timesteps)"
   ]
  },
  {
   "cell_type": "code",
   "execution_count": 16,
   "metadata": {},
   "outputs": [],
   "source": [
    "PPO_path = os.path.join('Training', 'Saved Models', 'PPO_model')\n",
    "# agent.save(PPO_path)"
   ]
  },
  {
   "cell_type": "code",
   "execution_count": 17,
   "metadata": {},
   "outputs": [],
   "source": [
    "#del agent\n",
    "# agent= PPO.load(PPO_path, env=env)"
   ]
  },
  {
   "cell_type": "markdown",
   "metadata": {},
   "source": [
    "### EVALUATION"
   ]
  },
  {
   "cell_type": "code",
   "execution_count": 18,
   "metadata": {},
   "outputs": [
    {
     "name": "stderr",
     "output_type": "stream",
     "text": [
      "c:\\Dell\\Python310\\lib\\site-packages\\stable_baselines3\\common\\evaluation.py:67: UserWarning: Evaluation environment is not wrapped with a ``Monitor`` wrapper. This may result in reporting modified episode lengths and rewards, if other wrappers happen to modify these. Consider wrapping environment first with ``Monitor`` wrapper.\n",
      "  warnings.warn(\n"
     ]
    },
    {
     "data": {
      "text/plain": [
       "(226.7, 114.89477794921753)"
      ]
     },
     "execution_count": 18,
     "metadata": {},
     "output_type": "execute_result"
    }
   ],
   "source": [
    "# for cartpole an avg score of 200 means it is solved\n",
    "env=gym.make(env_name,render_mode='human')\n",
    "evaluate_policy(agent,env,n_eval_episodes=10,render=True)"
   ]
  },
  {
   "cell_type": "markdown",
   "metadata": {},
   "source": [
    "(older values)<br>\n",
    "+ ***Average Reward (453.1)*** : The agent is doing quite well, balancing the pole for most of the episode length (near 500 steps).<br>\n",
    "+ ***Standard Deviation (109.77)*** : The agent's performance is somewhat inconsistent across episodes. Some episodes might see the agent failing earlier, while in others it performs near the maximum."
   ]
  },
  {
   "cell_type": "code",
   "execution_count": 19,
   "metadata": {},
   "outputs": [],
   "source": [
    "env.close()"
   ]
  },
  {
   "cell_type": "markdown",
   "metadata": {},
   "source": [
    "### Testing the agent"
   ]
  },
  {
   "cell_type": "code",
   "execution_count": 26,
   "metadata": {},
   "outputs": [
    {
     "name": "stdout",
     "output_type": "stream",
     "text": [
      "episode 0, score = 98.0\n",
      "episode 1, score = 73.0\n",
      "episode 2, score = 128.0\n",
      "episode 3, score = 41.0\n",
      "episode 4, score = 60.0\n"
     ]
    }
   ],
   "source": [
    "env=gym.make(env_name,render_mode='human')\n",
    "eps=5\n",
    "for e in range(eps):\n",
    "    observation,info=env.reset()\n",
    "    done=False\n",
    "    score=0\n",
    "    while not done:\n",
    "        env.render()\n",
    "        action,_=agent.predict(observation) #returns action, next state\n",
    "        observation, reward, terminated, truncated, info = env.step(action)\n",
    "        score+=reward\n",
    "        done=terminated or truncated\n",
    "    print(f\"episode {e}, score = {score}\")"
   ]
  },
  {
   "cell_type": "code",
   "execution_count": 27,
   "metadata": {},
   "outputs": [],
   "source": [
    "env.close()"
   ]
  },
  {
   "cell_type": "markdown",
   "metadata": {},
   "source": [
    "### Viewing logs in tensorboard"
   ]
  },
  {
   "cell_type": "code",
   "execution_count": 28,
   "metadata": {},
   "outputs": [],
   "source": [
    "training_log_path=os.path.join(log_path,'PPO_1')"
   ]
  },
  {
   "cell_type": "code",
   "execution_count": 31,
   "metadata": {},
   "outputs": [
    {
     "name": "stdout",
     "output_type": "stream",
     "text": [
      "^C\n"
     ]
    }
   ],
   "source": [
    "!tensorboard --logdir={training_log_path}"
   ]
  },
  {
   "cell_type": "markdown",
   "metadata": {},
   "source": [
    "Average reward & average episode length are important measures to evaluate the model <br>\n",
    "to improve: <br>\n",
    "1. train for longer <br>\n",
    "2. Hyper-parameter tuning <br>\n",
    "3. Try different algorithms"
   ]
  },
  {
   "cell_type": "code",
   "execution_count": null,
   "metadata": {},
   "outputs": [],
   "source": []
  }
 ],
 "metadata": {
  "kernelspec": {
   "display_name": "Python 3",
   "language": "python",
   "name": "python3"
  },
  "language_info": {
   "codemirror_mode": {
    "name": "ipython",
    "version": 3
   },
   "file_extension": ".py",
   "mimetype": "text/x-python",
   "name": "python",
   "nbconvert_exporter": "python",
   "pygments_lexer": "ipython3",
   "version": "3.10.5"
  }
 },
 "nbformat": 4,
 "nbformat_minor": 2
}
